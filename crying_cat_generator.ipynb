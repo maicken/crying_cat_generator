{
  "nbformat": 4,
  "nbformat_minor": 0,
  "metadata": {
    "colab": {
      "name": "crying_cat_generator.ipynb",
      "provenance": [],
      "collapsed_sections": [],
      "authorship_tag": "ABX9TyPCpQx537kLl9YWsHEYzKS9",
      "include_colab_link": true
    },
    "kernelspec": {
      "name": "python3",
      "display_name": "Python 3"
    },
    "language_info": {
      "name": "python"
    }
  },
  "cells": [
    {
      "cell_type": "markdown",
      "metadata": {
        "id": "view-in-github",
        "colab_type": "text"
      },
      "source": [
        "<a href=\"https://colab.research.google.com/github/maicken/crying_cat_generator/blob/main/crying_cat_generator.ipynb\" target=\"_parent\"><img src=\"https://colab.research.google.com/assets/colab-badge.svg\" alt=\"Open In Colab\"/></a>"
      ]
    },
    {
      "cell_type": "markdown",
      "source": [
        "# Clone git"
      ],
      "metadata": {
        "id": "bobQZ-QYpdZh"
      }
    },
    {
      "cell_type": "code",
      "source": [
        "!git clone https://github.com/maicken/crying_cat_generator.git\n",
        "%cd crying_cat_generator"
      ],
      "metadata": {
        "colab": {
          "base_uri": "https://localhost:8080/"
        },
        "id": "fIWo_YL_nfzw",
        "outputId": "065c7cc4-3ba2-4b63-bd6d-6118af47be3a"
      },
      "execution_count": 1,
      "outputs": [
        {
          "output_type": "stream",
          "name": "stdout",
          "text": [
            "Cloning into 'crying_cat_generator'...\n",
            "remote: Enumerating objects: 112, done.\u001b[K\n",
            "remote: Counting objects: 100% (112/112), done.\u001b[K\n",
            "remote: Compressing objects: 100% (93/93), done.\u001b[K\n",
            "remote: Total 112 (delta 20), reused 92 (delta 11), pack-reused 0\u001b[K\n",
            "Receiving objects: 100% (112/112), 81.75 MiB | 27.07 MiB/s, done.\n",
            "Resolving deltas: 100% (20/20), done.\n",
            "Checking out files: 100% (67/67), done.\n",
            "/content/crying_cat_generator\n"
          ]
        }
      ]
    },
    {
      "cell_type": "code",
      "source": [
        "!pip install -e ."
      ],
      "metadata": {
        "colab": {
          "base_uri": "https://localhost:8080/"
        },
        "id": "nzL9gC3tn4iX",
        "outputId": "3b3249cc-1f34-4232-d0ed-fd90c63a0f21"
      },
      "execution_count": 2,
      "outputs": [
        {
          "output_type": "stream",
          "name": "stdout",
          "text": [
            "Obtaining file:///content/crying_cat_generator\n",
            "Installing collected packages: crying-cat-generator\n",
            "  Running setup.py develop for crying-cat-generator\n",
            "Successfully installed crying-cat-generator-0.1.0.dev0\n"
          ]
        }
      ]
    },
    {
      "cell_type": "code",
      "source": [
        "!mkdir images"
      ],
      "metadata": {
        "id": "FBNP1yBSu4on"
      },
      "execution_count": 3,
      "outputs": []
    },
    {
      "cell_type": "markdown",
      "source": [
        "# Add images for testing\n",
        "\n",
        "In the menu in your left (Files), add your cat image to the following path:\n",
        "\n",
        "\"/crying_cat_generator/images\"\n",
        "\n"
      ],
      "metadata": {
        "id": "1L2re6QHpgOO"
      }
    },
    {
      "cell_type": "markdown",
      "source": [
        "# Run code"
      ],
      "metadata": {
        "id": "HfU46sLF132X"
      }
    },
    {
      "cell_type": "code",
      "source": [
        "!python src/crying_cat_generator.py -f 'images'"
      ],
      "metadata": {
        "colab": {
          "base_uri": "https://localhost:8080/"
        },
        "id": "7SNfOSbsogfd",
        "outputId": "862be0a2-ce65-4fb5-c018-4906782748b0"
      },
      "execution_count": 5,
      "outputs": [
        {
          "output_type": "stream",
          "name": "stdout",
          "text": [
            "2022-01-02 17:29:57.237730: E tensorflow/stream_executor/cuda/cuda_driver.cc:271] failed call to cuInit: CUDA_ERROR_NO_DEVICE: no CUDA-capable device is detected\n"
          ]
        }
      ]
    },
    {
      "cell_type": "markdown",
      "source": [
        "# Visualize Results\n",
        "\n",
        "You can find the final output in the folder \"results\""
      ],
      "metadata": {
        "id": "UTohxsVs16iW"
      }
    },
    {
      "cell_type": "code",
      "source": [
        ""
      ],
      "metadata": {
        "id": "SX4NM17SrUcJ"
      },
      "execution_count": null,
      "outputs": []
    }
  ]
}